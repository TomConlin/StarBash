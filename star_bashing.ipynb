{
 "cells": [
  {
   "cell_type": "markdown",
   "metadata": {},
   "source": [
    "## Unecessary homework\n",
    "\n",
    "Encountered someone else's homework question that took my fancy.  \n",
    "Basicly given a text list with three columns representing (x,y)=z   \n",
    "which is said to be a telescopic image of some starfield.  \n",
    "The goal is to: \n",
    "*    Say how many stars there are,   \n",
    "*    where the stars are in the image,   \n",
    "*    give relative brightness of the stars.    \n",
    "\n",
    "This is clearly an image processing problem and there are \n",
    "astronomy specific packages available to solve it.  \n",
    "\n",
    "But that is not interesting unless it is your profession.\n",
    "\n",
    "So a new version __ipython__ (now jupyter) was just released   \n",
    "and I see it has a __bash__ kernel  \n",
    "Lets see how far we get treating this as a data munging problem in the shell \n",
    "instead of an image processing problem.\n",
    " \n",
    "One advantage to this approach is it's methods are somewhat independent   \n",
    "of the dimension of the problem, that is, although we could make an image and look at it,  \n",
    "not relying on our visual cortext is good practice for working on a problem where   \n",
    "falling back to pointing and grunting is not an option.\n",
    "\n",
    "Our data set is a field, a representation of intensity at a location two dimensions.\n"
   ]
  },
  {
   "cell_type": "code",
   "execution_count": 19,
   "metadata": {
    "collapsed": false
   },
   "outputs": [
    {
     "name": "stdout",
     "output_type": "stream",
     "text": []
    }
   ],
   "source": [
    "# wget  http://homework.uoregon.edu/pub/class/sciprog15/stars.txt"
   ]
  },
  {
   "cell_type": "markdown",
   "metadata": {},
   "source": [
    "* Step one is allways look at the file"
   ]
  },
  {
   "cell_type": "code",
   "execution_count": 20,
   "metadata": {
    "collapsed": false
   },
   "outputs": [
    {
     "name": "stdout",
     "output_type": "stream",
     "text": [
      "1. 1.  1028.\r\n",
      "2. 1.  1335.\r\n",
      "3. 1.  1375.\r\n",
      "4. 1.  1361.\r\n",
      "5. 1.  1310.\r\n",
      "6. 1.  1332.\r\n",
      "7. 1.  1994.\r\n",
      "8. 1.  2116.\r\n",
      "9. 1.  1949.\r\n",
      "10. 1.  1867.\r\n"
     ]
    }
   ],
   "source": [
    "head stars.txt"
   ]
  },
  {
   "cell_type": "markdown",
   "metadata": {},
   "source": [
    "\n",
    "###Clean\n",
    "see if the decimal points are ever significant"
   ]
  },
  {
   "cell_type": "code",
   "execution_count": 21,
   "metadata": {
    "collapsed": false
   },
   "outputs": [
    {
     "name": "stdout",
     "output_type": "stream",
     "text": []
    }
   ],
   "source": [
    "grep \"\\.[0-9]\" stars.txt"
   ]
  },
  {
   "cell_type": "markdown",
   "metadata": {},
   "source": [
    "nope. never significant\n",
    "\n",
    "remove cruft -- decimal point, extra spaces, convert spaces to tabs"
   ]
  },
  {
   "cell_type": "code",
   "execution_count": null,
   "metadata": {
    "collapsed": false
   },
   "outputs": [],
   "source": [
    "tr -d \\. < stars.txt | tr -s ' ' | tr ' ' '\\t'  > stars.tab"
   ]
  },
  {
   "cell_type": "markdown",
   "metadata": {},
   "source": [
    "check that what remains are well formed integers"
   ]
  },
  {
   "cell_type": "code",
   "execution_count": null,
   "metadata": {
    "collapsed": false
   },
   "outputs": [],
   "source": [
    "grep -v \"^[0-9]*.[0-9]*.[0-9]*$\" stars.tab"
   ]
  },
  {
   "cell_type": "markdown",
   "metadata": {},
   "source": [
    "yep. all whole numbers. \n",
    "\n",
    "###Explore\n",
    "\n",
    "Get the width and height.\n",
    "They will be the largest values (locations) in the first two columns.\n"
   ]
  },
  {
   "cell_type": "code",
   "execution_count": null,
   "metadata": {
    "collapsed": false
   },
   "outputs": [],
   "source": [
    "X=$(cut -f1 stars.tab | sort -n | tail -n1)\n",
    "Y=$(cut -f2 stars.tab | sort -n | tail -n1)\n",
    "echo $X $Y"
   ]
  },
  {
   "cell_type": "markdown",
   "metadata": {},
   "source": [
    "How many distinct indensity values in the this column?"
   ]
  },
  {
   "cell_type": "code",
   "execution_count": null,
   "metadata": {
    "collapsed": false
   },
   "outputs": [],
   "source": [
    "cut -f3 stars.tab | sort -n | uniq -c | wc -l"
   ]
  },
  {
   "cell_type": "markdown",
   "metadata": {},
   "source": [
    "what are the min and max indensity?"
   ]
  },
  {
   "cell_type": "code",
   "execution_count": null,
   "metadata": {
    "collapsed": false
   },
   "outputs": [],
   "source": [
    "IMIN=$(cut -f3 stars.tab | sort -n | head -n1)\n",
    "echo ${IMIN}"
   ]
  },
  {
   "cell_type": "code",
   "execution_count": null,
   "metadata": {
    "collapsed": false
   },
   "outputs": [],
   "source": [
    "IMAX=$(cut -f3 stars.tab | sort -nr | head -n1)\n",
    "echo ${IMAX}"
   ]
  },
  {
   "cell_type": "code",
   "execution_count": null,
   "metadata": {
    "collapsed": false
   },
   "outputs": [],
   "source": [
    "echo \"2^16-1\" | bc"
   ]
  },
  {
   "cell_type": "markdown",
   "metadata": {
    "collapsed": false
   },
   "source": [
    "That max intensity value represents a saturation of the sensor.  \n",
    "The data for those pixels (and those it overflowed into), will be ...  \n",
    "suboptimal.\n",
    "\n",
    "### Adjust\n",
    "\n",
    "It will not change our relative measurements to reduce all intensities by $IMIN  \n",
    "and it will provide a bit of headroom below 2^16 and a base of zero."
   ]
  },
  {
   "cell_type": "code",
   "execution_count": null,
   "metadata": {
    "collapsed": false
   },
   "outputs": [],
   "source": [
    "awk -v OFS=\"\\t\" -v \"IMIN=${IMIN}\" '{$3-=IMIN;print}' stars.tab > stars_0.tab\n",
    "IMIN=$(cut -f3 stars_0.tab | sort -n | head -n1)\n",
    "\n",
    "echo ${IMIN} "
   ]
  },
  {
   "cell_type": "code",
   "execution_count": null,
   "metadata": {
    "collapsed": false
   },
   "outputs": [],
   "source": [
    "IMAX=$(cut -f3 stars_0.tab | sort -nr| head -n1)\n",
    "\n",
    "echo ${IMAX}"
   ]
  },
  {
   "cell_type": "markdown",
   "metadata": {},
   "source": [
    "###Measure more\n",
    "\n",
    "what is the average intensity?"
   ]
  },
  {
   "cell_type": "code",
   "execution_count": null,
   "metadata": {
    "collapsed": false
   },
   "outputs": [],
   "source": [
    "awk '{a+=$3}END{print a/NR}' stars_0.tab"
   ]
  },
  {
   "cell_type": "markdown",
   "metadata": {},
   "source": [
    "Note: Since background plus stars averages to about 257 the actual background must be below this value.  "
   ]
  },
  {
   "cell_type": "code",
   "execution_count": null,
   "metadata": {
    "collapsed": false
   },
   "outputs": [],
   "source": [
    "echo \"scale=3;257/65272*100\" | bc"
   ]
  },
  {
   "cell_type": "markdown",
   "metadata": {},
   "source": [
    "Avgrage intensity is less than a third of one percent of the brightest.  \n",
    "Or the bright ones are around 300 times the average\n",
    "\n",
    "From a more CS big-O perspective 2^8 goes into 2^16   \n",
    "2^8 times so the bright point(s) are the overall average squared.\n",
    "\n",
    "### Histogram\n",
    "\n",
    "Generate a histogram, remember there were 5,146 distinct intensities.  \n",
    "This histogram is the the number of pixels of an intensity, ordered by intensity.   \n",
    "\n",
    "Expect to start with many shades of dark gray and a spike of bright towards the end."
   ]
  },
  {
   "cell_type": "code",
   "execution_count": null,
   "metadata": {
    "collapsed": false
   },
   "outputs": [],
   "source": [
    "cut -f3 stars_0.tab | sort -n | uniq -c | \\\n",
    "sed 's| *\\([0-9]*\\) *\\([0-9]*\\)|\\1\\t\\2|g' > stars.hist\n",
    "\n",
    "head  stars.hist"
   ]
  },
  {
   "cell_type": "code",
   "execution_count": null,
   "metadata": {
    "collapsed": false
   },
   "outputs": [],
   "source": [
    "tail stars.hist"
   ]
  },
  {
   "cell_type": "markdown",
   "metadata": {},
   "source": [
    "Nothing too exciting at the extremes except \n",
    "the hundreds of saturated pixels.  \n",
    "What are the mose common values (expect background)"
   ]
  },
  {
   "cell_type": "code",
   "execution_count": null,
   "metadata": {
    "collapsed": false
   },
   "outputs": [],
   "source": [
    "sort -nr stars.hist | head"
   ]
  },
  {
   "cell_type": "markdown",
   "metadata": {},
   "source": [
    "the most common intensities are below 200 \n",
    "which agrees well with background needing to be below the average (256.9)  \n",
    "\n",
    "Histograms are best seen.  \n",
    "We could write a simple script to print something.  \n",
    "But gnuplot is ancient, flexible, widely available and very good to be aware of. "
   ]
  },
  {
   "cell_type": "code",
   "execution_count": null,
   "metadata": {
    "collapsed": false,
    "scrolled": true
   },
   "outputs": [],
   "source": [
    "gnuplot << END\n",
    "set xrange [0:65272];\n",
    "set yrange[0:30890];\n",
    "set terminal dumb;\n",
    "plot 'stars.hist' using 2:1;\n",
    "END"
   ]
  },
  {
   "cell_type": "markdown",
   "metadata": {},
   "source": [
    "Effectvily no interesting structure at this resolution, \n",
    "a spike near x=0 and y is close to zero elsewhere.\n",
    "\n",
    "Try taking the log of the counts of intensities"
   ]
  },
  {
   "cell_type": "code",
   "execution_count": null,
   "metadata": {
    "collapsed": false
   },
   "outputs": [],
   "source": [
    "gnuplot << END\n",
    "set xrange [0:65272];\n",
    "set yrange[0:12];\n",
    "set terminal dumb;\n",
    "plot \"<awk '{print \\$2,log(\\$1)}' stars.hist\" ;\n",
    "END"
   ]
  },
  {
   "cell_type": "markdown",
   "metadata": {},
   "source": [
    "That shows exponential decay-like structure with a blip at the end\n",
    "which could agree with a bunch of background a then some stars story.\n",
    "\n",
    "\n",
    "\n",
    "Next find an intensity threshold between the stars and background \n",
    "by partitioning intensities to minimize variation \n",
    "within the brighter and the darker sets of pixels.\n",
    "That is, pick a number so that all the values on either side have more in common with each other than values on the other side.\n",
    "\n",
    "Note:  \n",
    "Choosing a threshold that minimizes variation within the stars(bright)   \n",
    "AND the dark (background) is mathematicaly the same as maximizing the variation between the two. \n",
    "\n",
    "This <a href=\"http://localhost:8888/edit/otsu.awk\">otsu.awk</a> script is named after the algorithm's author\n",
    "offers a threshold value on which to split the histogram."
   ]
  },
  {
   "cell_type": "code",
   "execution_count": null,
   "metadata": {
    "collapsed": false
   },
   "outputs": [],
   "source": [
    "#./otsu.awk stars.hist\n",
    "\n",
    "CUT=$(./otsu.awk stars.hist)\n",
    "echo ${CUT}"
   ]
  },
  {
   "cell_type": "markdown",
   "metadata": {
    "collapsed": false
   },
   "source": [
    "According to this metric, the background pixels are those in about the first 1/8th of the histogram.  \n",
    "\n",
    "What does this say?  \n",
    "\n",
    "First lets eliminate what it does not say.  \n",
    "It does not say that 7/8 of the intensities we have are stars.    \n",
    "It does not even say the background pixels are the area under the curve of first 1/8 of the histogram.  \n",
    "\n",
    "The histogram's max value is over 65 thousand, but we only have about 5 thousand different intensities in the dataset. It is possible there are evenly spaced so there is a bin of intensities every ~31 apart but that is highly unlikely.   \n",
    "\n",
    "So how many bins of intensites fall on ether side of our threshold?  "
   ]
  },
  {
   "cell_type": "code",
   "execution_count": null,
   "metadata": {
    "collapsed": false
   },
   "outputs": [],
   "source": [
    "awk -v\"CUT=${CUT}\" 'CUT<$2{hi++}CUT>=$2{lo++}END{print \"background \" lo \" bins\\tforeground \" hi \" bins\"}' stars.hist"
   ]
  },
  {
   "cell_type": "code",
   "execution_count": null,
   "metadata": {
    "collapsed": false
   },
   "outputs": [],
   "source": [
    "echo \"scale=3;3884/8160\" | bc\n"
   ]
  },
  {
   "cell_type": "markdown",
   "metadata": {},
   "source": [
    "Although the background pixles fall within the first eighth of the spread, they account for three quarters of the diversity over the spread. Which means when we zero out the background we will also be eliminating the majority of something, hopfully mostly noise.\n",
    "\n",
    "So what we can say is most of the varitey is in the background which fall into the first eigth of the spread where nearly every other (2nd) intensity is represented in the data ."
   ]
  },
  {
   "cell_type": "code",
   "execution_count": null,
   "metadata": {
    "collapsed": false
   },
   "outputs": [],
   "source": [
    "echo \"scale=3;1262/(65272-8160)\" | bc"
   ]
  },
  {
   "cell_type": "markdown",
   "metadata": {},
   "source": [
    " And there is less varitey in the intensity of the stars where only one in 50 or so possible intensities are represented in the data. Which allows the background to have ~25 times the coverage on the histogram than the stars do.   I will have to think about what this implies. "
   ]
  },
  {
   "cell_type": "markdown",
   "metadata": {},
   "source": [
    "What are the average intensities on either side of this threashold?"
   ]
  },
  {
   "cell_type": "code",
   "execution_count": null,
   "metadata": {
    "collapsed": false
   },
   "outputs": [],
   "source": [
    "awk -v\"CUT=${CUT}\" 'CUT<$3{mean+=$3;count++}END{print int(mean/count+.5)}' stars_0.tab "
   ]
  },
  {
   "cell_type": "code",
   "execution_count": null,
   "metadata": {
    "collapsed": false,
    "scrolled": true
   },
   "outputs": [],
   "source": [
    "awk -v\"CUT=${CUT}\" 'CUT>=$3{mean+=$3;count++}END{print int(mean/count+.5)}' stars_0.tab "
   ]
  },
  {
   "cell_type": "markdown",
   "metadata": {},
   "source": [
    "The intensities are now described as so:  \n",
    " \n",
    "* BG mininum       0\n",
    "* BG average     203\n",
    "* BG maximun   8,160   \n",
    "*    threshold    \n",
    "* FG mininum   8,161\n",
    "* FG average  34,475\n",
    "* FG maximum  65,272"
   ]
  },
  {
   "cell_type": "markdown",
   "metadata": {
    "collapsed": true
   },
   "source": [
    "That is a very non linear jump from BG average to the BG max something like 40:1.  \n",
    "In contrast the FG average  to FG max is closer to 2:1.\n",
    "\n",
    "With that large a step there is apt to be some information being lost as background,  \n",
    "but we have to start somewhere and in this case I think we can be sure  \n",
    "remaining foreground pixels are in fact __NOT__ background.   \n",
    "\n",
    "So, without losing _reliable_ information \n",
    "we can zero out all intensities below the threshold  \n",
    "and we can shift remaining pixels down in intensity  \n",
    "by the amount od the background average.  \n",
    "\n",
    "We can think of subtacting the BG avg from everything as reducing sky glow\n"
   ]
  },
  {
   "cell_type": "code",
   "execution_count": null,
   "metadata": {
    "collapsed": false
   },
   "outputs": [],
   "source": [
    "AVGBG=$(awk -v\"CUT=${CUT}\" 'CUT>=$3{mean+=$3;count++}END{print int(mean/count+.5)}' stars_0.tab)\n",
    "echo ${AVGBG}"
   ]
  },
  {
   "cell_type": "markdown",
   "metadata": {},
   "source": [
    "\n",
    "### Check\n",
    "How does that sky reduction change BG avg and does it meaningfully effect the choice of threshold?\n",
    "\n",
    "The new threshold is:"
   ]
  },
  {
   "cell_type": "code",
   "execution_count": null,
   "metadata": {
    "collapsed": false
   },
   "outputs": [],
   "source": [
    "awk -v\"AVGBG=${AVGBG}\" -vOFS=\"\\t\" '$3<=AVGBG{$3=0;print}$3>AVGBG{$3-=AVGBG;print}' stars_0.tab >stars_1.tab"
   ]
  },
  {
   "cell_type": "code",
   "execution_count": null,
   "metadata": {
    "collapsed": false
   },
   "outputs": [],
   "source": [
    "# cut -f3 stars_1.tab | sort -n | uniq -c | ./otsu.awk\n",
    "CUT=$(cut -f3 stars_1.tab | sort -n | uniq -c | ./otsu.awk)\n",
    "echo ${CUT}"
   ]
  },
  {
   "cell_type": "markdown",
   "metadata": {
    "collapsed": false
   },
   "source": [
    "The new BG avg is:"
   ]
  },
  {
   "cell_type": "code",
   "execution_count": null,
   "metadata": {
    "collapsed": false
   },
   "outputs": [],
   "source": [
    "awk -v\"CUT=${CUT}\" 'CUT>=$3{mean+=$3;count++}END{print int(mean/count+.5)}' stars_1.tab"
   ]
  },
  {
   "cell_type": "code",
   "execution_count": null,
   "metadata": {
    "collapsed": false
   },
   "outputs": [],
   "source": [
    "echo \"203+$CUT\" | bc"
   ]
  },
  {
   "cell_type": "markdown",
   "metadata": {
    "collapsed": true
   },
   "source": [
    "The threshold effectivly did not move while the average background faded almost 90%.  \n",
    "\n",
    "This is encourageing.\n",
    "\n",
    "### Isolate stars\n",
    "\n",
    "Isolate the signal (stars) by lowering all intensities by the threshold [clipped to zero]"
   ]
  },
  {
   "cell_type": "code",
   "execution_count": null,
   "metadata": {
    "collapsed": false
   },
   "outputs": [],
   "source": [
    "awk -F '\\t' -v\"CUT=${CUT}\" -vOFS=\"\\t\" '{$3=($3<CUT)?0:$3-CUT; print}' < stars_1.tab > stars_thresh.tab"
   ]
  },
  {
   "cell_type": "markdown",
   "metadata": {},
   "source": [
    "Check the maximum remaining intensity"
   ]
  },
  {
   "cell_type": "code",
   "execution_count": null,
   "metadata": {
    "collapsed": false
   },
   "outputs": [],
   "source": [
    "IMAXT=$(cut -f3 stars_thresh.tab | sort -n| tail -n1)\n",
    "echo ${IMAXT}"
   ]
  },
  {
   "cell_type": "markdown",
   "metadata": {},
   "source": [
    " How many different  star intensity levels do we have left?  (previously 5,146)"
   ]
  },
  {
   "cell_type": "code",
   "execution_count": null,
   "metadata": {
    "collapsed": false
   },
   "outputs": [],
   "source": [
    "cut -f3 stars_thresh.tab | sort -u | wc -l"
   ]
  },
  {
   "cell_type": "markdown",
   "metadata": {},
   "source": [
    "We lost ~3/4 of the variation in intensities we had zeroing out the background.   \n",
    "This reinforces there may be sturcture in the background we are missing.\n",
    "\n",
    "### Focus on the stars\n",
    "How many non-background pixels are there?\n",
    "\n",
    "Make a new list of just the stars to play with (a sparse martix) "
   ]
  },
  {
   "cell_type": "code",
   "execution_count": null,
   "metadata": {
    "collapsed": false
   },
   "outputs": [],
   "source": [
    "awk '$3!=0 {print}' stars_thresh.tab > stars_sparse.tab\n",
    "wc -l stars_sparse.tab"
   ]
  },
  {
   "cell_type": "markdown",
   "metadata": {},
   "source": [
    "This shows that about 2/3 of the non-background values are unique!  \n",
    "That seem high to me.\n",
    "\n",
    "Are the duplicate intensities evenly distributed   \n",
    "or clustered, skewed to the high or low end?"
   ]
  },
  {
   "cell_type": "code",
   "execution_count": null,
   "metadata": {
    "collapsed": false
   },
   "outputs": [],
   "source": [
    "cut -f3 stars_sparse.tab | sort -n | uniq -c | sort -nr | head"
   ]
  },
  {
   "cell_type": "markdown",
   "metadata": {},
   "source": [
    "That is definitive. \n",
    "The saturated pixels are responsible for duplicate values."
   ]
  },
  {
   "cell_type": "markdown",
   "metadata": {},
   "source": [
    "### star only histogram\n",
    "\n",
    "Still want to see a histogram of just the bright pixels  \n",
    "Should get one of just the background as well.  \n",
    "If there is still some structure we could go looking for faint stars (phase two).\n",
    "\n",
    "Double check the brightest for ploting"
   ]
  },
  {
   "cell_type": "code",
   "execution_count": null,
   "metadata": {
    "collapsed": false
   },
   "outputs": [],
   "source": [
    "cut -f3 stars_sparse.tab | sort -n | uniq -c | \\\n",
    "    sed 's| *\\([0-9]*\\) *\\([0-9]*\\)|\\1\\t\\2|g' > stars_sparse.hist\n",
    "cut -f2 stars_sparse.hist | sort -n | tail -n1"
   ]
  },
  {
   "cell_type": "code",
   "execution_count": null,
   "metadata": {
    "collapsed": false
   },
   "outputs": [],
   "source": [
    "gnuplot << END\n",
    "set xrange [0:57112];\n",
    "set yrange[0:3];\n",
    "set terminal dumb;\n",
    "plot \"<awk '{print \\$2,log(\\$1)}' stars_sparse.hist\" ;\n",
    "END"
   ]
  },
  {
   "cell_type": "markdown",
   "metadata": {},
   "source": [
    "I am a bit concerned about the dip in the middle.  \n",
    "the nice peak at the end will be stars ... has to be.\n",
    "\n",
    "But that elevated plateau early on that just falls off does not agree with  \n",
    "what I would expect from a bunch of stars (bright cores surounded by a diminishing halo)\n",
    "\n",
    "maybe split it again... stars from halo-glare or something so we just see a\n",
    "single peak distribution.\n",
    "\n",
    "Or maybe it is different populations of stars  some close, some far.  \n",
    "best to just follow through for now. \n",
    "\n",
    "The bright star list should be sorted by Y and then X by construction but double check. "
   ]
  },
  {
   "cell_type": "code",
   "execution_count": null,
   "metadata": {
    "collapsed": false
   },
   "outputs": [],
   "source": [
    "sort -c -k2 -k1 -n stars_sparse.hist"
   ]
  },
  {
   "cell_type": "markdown",
   "metadata": {},
   "source": [
    "sort is as expected.\n",
    "\n",
    "\n",
    "### clean stars\n",
    "\n",
    "From general background domain knowlage \n",
    "I know cameras sometimes have \"hot pixels\"  \n",
    "and that sometimes cosmic rays hit a sensor causing it to saturate. \n",
    "\n",
    "Neither of these are stars so if an isolated pixel is saturated,   \n",
    "it is most likely an error and we should consider removing it.\n",
    "\n",
    "We can make a filter called RIP \"Remove Isolated Pixels\"  \n",
    "then specialize it to only filter hot pixels for a given value of hot.    \n",
    "<a href=\"/edit/xyzriph_sparse.awk \">xyzriph_sparse.awk</a>"
   ]
  },
  {
   "cell_type": "code",
   "execution_count": null,
   "metadata": {
    "collapsed": false
   },
   "outputs": [],
   "source": [
    "./xyzriph_sparse.awk -v\"HOT=${IMAXT}\" stars_sparse.tab  | wc -l"
   ]
  },
  {
   "cell_type": "code",
   "execution_count": null,
   "metadata": {
    "collapsed": false
   },
   "outputs": [],
   "source": [
    "wc -l stars_sparse.tab"
   ]
  },
  {
   "cell_type": "markdown",
   "metadata": {},
   "source": [
    "One hot pixel using a 9-point stencil.\n",
    "\n",
    "Check for any isolated pixeles (they represent discontinuitues and are suspect) "
   ]
  },
  {
   "cell_type": "code",
   "execution_count": null,
   "metadata": {
    "collapsed": false
   },
   "outputs": [],
   "source": [
    "./xyzriph_sparse.awk stars_sparse.tab  | wc -l"
   ]
  },
  {
   "cell_type": "markdown",
   "metadata": {},
   "source": [
    "about half dozen of any intensity  \n",
    "\n",
    "Isolate them and have a look.  \n",
    "\n",
    "Note: awk associative arrays are not inherently sorted so sort them externaly "
   ]
  },
  {
   "cell_type": "code",
   "execution_count": null,
   "metadata": {
    "collapsed": false
   },
   "outputs": [],
   "source": [
    "./xyzriph_sparse.awk stars_sparse.tab | sort -k2n -k1n > stars_rip.tab\n",
    "\n",
    "diff stars_sparse.tab stars_rip.tab| grep \"^<\""
   ]
  },
  {
   "cell_type": "markdown",
   "metadata": {},
   "source": [
    "It is suspicious that these isolated pixels are all up in the same (upper right) corner \n",
    "but the universe is a big place for things happen in.\n",
    "\n",
    "It is also suspicious the first 6 are all about the same brightness and somewhat linear  \n",
    "A satellite or plane maybe? \n",
    "\n",
    "Well they are gone bye-bye now.\n",
    "\n",
    "### cluster\n",
    "It would be nice if all these these bright pixels were split into their own clusters...\n",
    "\n",
    "\n",
    "Simple flood filling is an easy way to find adjecent pixels.  \n",
    "Pick any non-clustered pixel repeatedly find all adjecent pixels till there are no more  \n",
    "and call it a cluster, rinse and repeat.\n",
    "\n",
    "This awk script rearrages the sparse matrix so pixels in a cluster are  \n",
    "adjecent and there is an empty line between clusters."
   ]
  },
  {
   "cell_type": "code",
   "execution_count": null,
   "metadata": {
    "collapsed": false
   },
   "outputs": [],
   "source": [
    "awk '\\\n",
    "function flood(x,y){ \\\n",
    "    step=x   SUBSEP y-1;if(step in a){print a[step];delete a[step];flood(x,y-1)}\\\n",
    "    step=x   SUBSEP y+1;if(step in a){print a[step];delete a[step];flood(x,y+1)}\\\n",
    "    step=x-1 SUBSEP y;  if(step in a){print a[step];delete a[step];flood(x-1,y)}\\\n",
    "    step=x+1 SUBSEP y;  if(step in a){print a[step];delete a[step];flood(x+1,y)}\\\n",
    "    step=x-1 SUBSEP y-1;if(step in a){print a[step];delete a[step];flood(x-1,y-1)}\\\n",
    "    step=x-1 SUBSEP y+1;if(step in a){print a[step];delete a[step];flood(x-1,y+1)}\\\n",
    "    step=x-1 SUBSEP y-1;if(step in a){print a[step];delete a[step];flood(x+1,y-1)}\\\n",
    "    step=x+1 SUBSEP y+1;if(step in a){print a[step];delete a[step];flood(x+1,y+1)}\\\n",
    "}\\\n",
    "{a[$1,$2]=$0}\\\n",
    "END{ while(length(a)>0){\\\n",
    "        for(seed in a){if(seed in a)break}\\\n",
    "        split(seed,xy,SUBSEP);\\\n",
    "        print a[seed];\\\n",
    "        delete a[seed];\\\n",
    "        flood(xy[1],xy[2]);\\\n",
    "        print \"\"\\\n",
    "    }\\\n",
    "}' stars_rip.tab > stars_clust.tab"
   ]
  },
  {
   "cell_type": "code",
   "execution_count": null,
   "metadata": {
    "collapsed": false
   },
   "outputs": [],
   "source": [
    "grep -c \"^$\"  stars_clust.tab"
   ]
  },
  {
   "cell_type": "markdown",
   "metadata": {},
   "source": [
    "That is promising.\n",
    "\n",
    "\n",
    "### Generate cluster statistics\n",
    "\n",
    "Get some per cluster averages."
   ]
  },
  {
   "cell_type": "code",
   "execution_count": null,
   "metadata": {
    "collapsed": false
   },
   "outputs": [],
   "source": [
    "awk -vOFS=\"\\t\" 'BEGIN{xw=yw=xa=ya=x=y=z=count=0; xi=yi=9999999}\\\n",
    "    !/^$/ {count++; x+=$1; y+=$2; z+=$3;    # sums \\\n",
    "            xw+=log($1)*$3; yw+=log($2)*$3; # Weighted sum\\\n",
    "            xi=xi<$1?xi:$1; xa=xa>$1?xa:$1; # X min max\\\n",
    "            ya=ya>$2?ya:$2; yi=yi<$2?yi:$2; # Y min max\\\n",
    "    }\\\n",
    "    /^$/ {print int(exp(xw/z)+.5),int(exp(yw/z)+.5), #weighted mean\\\n",
    "            #int(x/count+.5),int(y/count+.5), # arth mean \\\n",
    "            int((17-log(z))*100)/100,       # Pseudo Magnitude\\\n",
    "            int(sqrt(count*3.14)+.5),       # Pseudo Radius\\\n",
    "            xi, xa, yi, ya,                 # bounding box\\\n",
    "            count;                          # pixels in the custer\\\n",
    "            xw=yw=xa=ya=x=y=z=count=0; xi=yi=9999999\\\n",
    "    }' stars_clust.tab | sort -k3,3n > cluster_digest.tab"
   ]
  },
  {
   "cell_type": "markdown",
   "metadata": {},
   "source": [
    " ### View cluster statistics\n",
    " \n",
    " X,   Y,     Mag,    rad,   xmin,   xmax,    ymin,  ymax,   count"
   ]
  },
  {
   "cell_type": "code",
   "execution_count": null,
   "metadata": {
    "collapsed": false
   },
   "outputs": [],
   "source": [
    "cat cluster_digest.tab"
   ]
  },
  {
   "cell_type": "markdown",
   "metadata": {},
   "source": [
    "    X,   Y,     Mag,    rad,   xmin,   xmax,    ymin,  ymax,   count"
   ]
  },
  {
   "cell_type": "markdown",
   "metadata": {
    "collapsed": false
   },
   "source": [
    "- First two columns are weighted centroids (arithmetic centers are within 1)\n",
    "- The third is the log of sum of intensities in the cluster (approximate magnitude)\n",
    "- The fourth column is an aproximate radius. (circle with area ~ number of pixels)\n",
    "- The 5th,6th, 7th & 8th cols are limits of cluster\n",
    "- Last is number of pixels in the cluster"
   ]
  },
  {
   "cell_type": "markdown",
   "metadata": {},
   "source": [
    "### Check cluster symetery\n",
    "\n",
    "Although the bounding box will be useful if we ever make an image  \n",
    "it is a pain to gleen information from at a glance,  \n",
    "and I want to see how square the bounding boxes are."
   ]
  },
  {
   "cell_type": "code",
   "execution_count": null,
   "metadata": {
    "collapsed": false
   },
   "outputs": [],
   "source": [
    "awk '{print ++i\")\",\"\",$6-$5, $8-$7}' cluster_digest.tab "
   ]
  },
  {
   "cell_type": "markdown",
   "metadata": {},
   "source": [
    "The first three (brightest) are all atleast twice as high as they are wide (probably saturated blooming in columns)      \n",
    "A couple that are a single pixel wide are questionable.  \n",
    "\n",
    "The majority are relativly square.  \n",
    "\n",
    "\n",
    "## Results\n",
    "At this point we can give some first aproximation of answers"
   ]
  },
  {
   "cell_type": "code",
   "execution_count": null,
   "metadata": {
    "collapsed": false
   },
   "outputs": [],
   "source": [
    "cowsay \"There are at least 42 star clusters ... We know their subpixel coordinates ... We have their relative brightness.\""
   ]
  },
  {
   "cell_type": "markdown",
   "metadata": {},
   "source": [
    "\n",
    "####Observation:\n",
    "To get this far, we did not need to see the image, or require specialized software,    \n",
    "only standard tools that have been part of every UNIX(tm) installation for decades.\n",
    "\n",
    "We now have a choice of focusing on cheese or holes.   \n",
    "\n",
    "__Holes__     \n",
    "Do any clusters represent multiple stars?  \n",
    "Are we missing stars or have too many?\n",
    "\n",
    "__Cheese__  \n",
    "We can generate an image with our cluster statistics and see.\n",
    "\n",
    "mmmm cheese."
   ]
  },
  {
   "cell_type": "markdown",
   "metadata": {},
   "source": [
    "### eyecandy\n",
    "\n",
    "Re Write the original data out in the  \n",
    "Net Portable Bit Map (NetPBM) format for grayscale images."
   ]
  },
  {
   "cell_type": "code",
   "execution_count": null,
   "metadata": {
    "collapsed": false
   },
   "outputs": [],
   "source": [
    "X=$(cut -f1 stars.tab | sort -n | tail -n1)\n",
    "Y=$(cut -f2 stars.tab | sort -n | tail -n1)\n",
    "\n",
    "IMAX=$(cut -f3 stars.tab | sort -n | tail -n1)\n",
    "echo -e \"P2\\n${X} ${Y}\\n${IMAX}\\n\" > stars_raw.pgm\n",
    "cut -f3 stars.tab >> stars_raw.pgm\n",
    "\n",
    "IMAX=$(cut -f3 stars_thresh.tab | sort -n | tail -n1)\n",
    "echo -e \"P2\\n${X} ${Y}\\n${IMAX}\\n\" > stars_thresh.pgm\n",
    "cut -f3 stars_thresh.tab >> stars_thresh.pgm\n",
    "\n",
    "# Few image display programs understand the old braindead image formats (pbm,pgm) \n",
    "# So we must convert it to something shinney like portable net graphics (png)  \n",
    "# so we can include it here  \n",
    "\n",
    "# Delibertly using NetPBM's \"pnmtopng\" to change the format.\n",
    "pnmtopng stars_raw.pgm > stars_raw.png\n",
    "pnmtopng stars_thresh.pgm > stars_thresh.png"
   ]
  },
  {
   "cell_type": "markdown",
   "metadata": {},
   "source": [
    "<img src=\"stars_raw.png\" width=\"100%\">"
   ]
  },
  {
   "cell_type": "markdown",
   "metadata": {},
   "source": [
    "We can see the three brightest stars are at least twice as tall as they are wide just as their cluster reported  \n",
    "the solid bars of white are CCD well in a column overflowing.\n",
    "\n",
    "If you look at the upper right corner of the image you will notice  \n",
    "the distinct set of isolated pixels which look artificial  \n",
    "and are not at all consistent with the rest of the image.\n",
    "\n",
    "Also notice how all the comma (flair) points away from the center of the image,  \n",
    "that is spherical abberation in the optics (not that it is relevent in this case).\n",
    "\n",
    "### Thesholding\n",
    "\n",
    "While we are looking at pictures we might as well see what the thresholding did."
   ]
  },
  {
   "cell_type": "markdown",
   "metadata": {
    "collapsed": true
   },
   "source": [
    "<table>\n",
    "    <tr>\n",
    "        <th>Raw image</th><th>Threshold image</th>\n",
    "    </tr>\n",
    "    <tr>\n",
    "        <td><img src=\"stars_raw.png\" width=\"100%\"/></td>\n",
    "        <td><img src=\"stars_thresh.png\" width=\"100%\"/></td>\n",
    "    </tr>\n",
    "</table>"
   ]
  },
  {
   "cell_type": "markdown",
   "metadata": {},
   "source": [
    "If I look very carefully I can spot about a dozen faint stars in the original which are not in the thersholded image."
   ]
  },
  {
   "cell_type": "markdown",
   "metadata": {},
   "source": [
    "### Rant\n",
    "\n",
    "Here is a fun factoid, when you use poplar image processing tools on scientific data \n",
    "they may silently  ummmm err ... \"enhance\" your results."
   ]
  },
  {
   "cell_type": "code",
   "execution_count": null,
   "metadata": {
    "collapsed": false
   },
   "outputs": [],
   "source": [
    "convert stars_raw.pgm stars_raw_IM.png"
   ]
  },
  {
   "cell_type": "markdown",
   "metadata": {
    "collapsed": true
   },
   "source": [
    "<table>\n",
    "    <tr>\n",
    "        <th>NetPBM conversion</th> <th>Image Magik conversion</th>\n",
    "    </tr>\n",
    "    <tr>\n",
    "        <td><img src=\"stars_raw.png\" width=\"99%\"/></td>\n",
    "        <td><img src=\"stars_raw_IM.png\" width=\"100%\"/></td>\n",
    "    </tr>\n",
    "</table>"
   ]
  },
  {
   "cell_type": "markdown",
   "metadata": {},
   "source": [
    "Here, the ImageMagik format conversion process has chosen to streach the histogram  \n",
    "for us so we can make out hundreds of faint stars.  \n",
    "This does informs us we may want to revisit the background.  \n",
    "But it does bug me, is not an accurate portrail of the data it was given.  \n",
    "Enough whinging for now.  \n"
   ]
  },
  {
   "cell_type": "markdown",
   "metadata": {},
   "source": [
    "### Annotate \n",
    "\n",
    "Annotate the image with the cluster statistics"
   ]
  },
  {
   "cell_type": "code",
   "execution_count": null,
   "metadata": {
    "collapsed": false
   },
   "outputs": [],
   "source": [
    "awk 'BEGIN {print \"convert stars_raw.png  -stroke red -strokewidth 2  -fill none -draw \\\\\"}\\\n",
    "           {print \"\\\"rectangle \" $5 \",\" $7 \",\" $6 \",\" $8\"\\\"\\\\\"}\\\n",
    "       END {print \" stars_anotated.png\"}' cluster_digest.tab | tr \\\" \\' > anotate.sourcme"
   ]
  },
  {
   "cell_type": "code",
   "execution_count": null,
   "metadata": {
    "collapsed": false
   },
   "outputs": [],
   "source": [
    "rm -f stars_anotated.png\n",
    "source anotate.sourcme"
   ]
  },
  {
   "cell_type": "markdown",
   "metadata": {
    "collapsed": false
   },
   "source": [
    "<img src=\"stars_anotated.png\" width=\"100%\">"
   ]
  },
  {
   "cell_type": "markdown",
   "metadata": {},
   "source": [
    "Looks okay, (note image magik again streched the image without being told to)\n",
    "\n",
    "### Reconstruct\n",
    "Lets reconstruct the image from the statistics and see if it can illicit \n",
    "a valid response from an online starfield identification service.\n"
   ]
  },
  {
   "cell_type": "code",
   "execution_count": null,
   "metadata": {
    "collapsed": false
   },
   "outputs": [],
   "source": [
    "echo \"${X}x${Y}\""
   ]
  },
  {
   "cell_type": "code",
   "execution_count": null,
   "metadata": {
    "collapsed": false
   },
   "outputs": [],
   "source": [
    "awk 'BEGIN {print \"convert -size 1124x1024  xc:black -stroke black -fill white -draw \\\\\"}\\\n",
    "     {print \"\\\"circle \" $1 \",\" $2 \",\" 12/$3+$1 \",\" $2\"\\\"\\\\\"}\\\n",
    "END {print \" stars_reconstructed.png\"}' cluster_digest.tab |tr \\\" \\' > reconstruct.sourcme"
   ]
  },
  {
   "cell_type": "code",
   "execution_count": null,
   "metadata": {
    "collapsed": false
   },
   "outputs": [],
   "source": [
    "source reconstruct.sourcme"
   ]
  },
  {
   "cell_type": "markdown",
   "metadata": {},
   "source": [
    "<table>\n",
    "    <tr>\n",
    "        <th>Original</th> <th>Reconstructed</th>\n",
    "    </tr>\n",
    "    <tr>\n",
    "        <td><img src=\"stars_raw.png\" width=\"100%\"/></td>\n",
    "        <td><img src=\"stars_reconstructed.png\" width=\"100%\"/></td>\n",
    "    </tr>\n",
    "</table>"
   ]
  },
  {
   "cell_type": "markdown",
   "metadata": {},
   "source": [
    "### Proof is in the pudding\n",
    "\n",
    "Upload the reconstructed image to http://nova.astrometry.net/  and it returns:  \n",
    "\n",
    "http://nova.astrometry.net/user_images/702731#annotated\n",
    "\n",
    "\n",
    "<pre>\n",
    "Submitted by anonymous\n",
    "on 2015-06-19T14:20:21Z\n",
    "as \" stars_reconstructed.png \" (Submission 669400)\n",
    "under Attribution 3.0 Unported\n",
    "\n",
    "Job 1141718:\n",
    "Success\n",
    "Calibration\n",
    "Center (RA, Dec):\t(322.990, 48.446)\n",
    "Center (RA, hms):\t21h 31m 57.548s\n",
    "Center (Dec, dms):\t+48° 26' 46.084\"\n",
    "Size:\t37.8 x 34.4 arcmin\n",
    "Radius:\t0.426 deg\n",
    "Pixel scale:\t2.02 arcsec/pixel\n",
    "Orientation:\tUp is -90.4 degrees E of N\n",
    "</pre>\n",
    "\n",
    "I consider that to be a positive result."
   ]
  },
  {
   "cell_type": "markdown",
   "metadata": {},
   "source": [
    "###notes\n",
    "\n",
    "__ibash__ chokes on displaying some pileline operation althought as far as I can tell they do complete correctly.  \n",
    "\n",
    "Images sometimes seem stuck and do not update when the underlying file changes without restarting the kernel.\n",
    " \n",
    "There is no spell checker (but that is probable pretty obvious by now)\n",
    "\n",
    "Overall very fun and engaging"
   ]
  }
 ],
 "metadata": {
  "kernelspec": {
   "display_name": "Bash",
   "language": "bash",
   "name": "bash"
  },
  "language_info": {
   "codemirror_mode": "shell",
   "file_extension": ".sh",
   "mimetype": "text/x-sh",
   "name": "bash"
  }
 },
 "nbformat": 4,
 "nbformat_minor": 0
}
